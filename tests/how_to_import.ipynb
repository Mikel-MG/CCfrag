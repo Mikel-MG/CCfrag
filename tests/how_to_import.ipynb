{
 "cells": [
  {
   "cell_type": "code",
   "execution_count": 1,
   "id": "3f035791-1b8c-422d-b472-fa810ca3c9fc",
   "metadata": {},
   "outputs": [],
   "source": [
    "import sys\n",
    "sys.path.append('../')"
   ]
  },
  {
   "cell_type": "markdown",
   "id": "d0376d54-b83e-4f1b-8e12-bc0cdde797e8",
   "metadata": {},
   "source": [
    "# 1 Import the divider module"
   ]
  },
  {
   "cell_type": "code",
   "execution_count": 2,
   "id": "f33cfd4b-55c8-49d6-931a-17e58a24bee3",
   "metadata": {},
   "outputs": [],
   "source": [
    "import CCfrag"
   ]
  },
  {
   "cell_type": "code",
   "execution_count": 3,
   "id": "8800cb33-0889-405d-b816-062093fcc0ec",
   "metadata": {},
   "outputs": [],
   "source": [
    "divider = CCfrag.Divider(L=30, O=15, nmer=2)"
   ]
  },
  {
   "cell_type": "code",
   "execution_count": null,
   "id": "8ea403f5-1d9f-4a0b-a0c1-d81c2a55b794",
   "metadata": {},
   "outputs": [],
   "source": [
    "divider.generate_queries(...)"
   ]
  },
  {
   "cell_type": "markdown",
   "id": "bdfaf8dc-35ad-467b-a7af-6408c2fec1c8",
   "metadata": {},
   "source": [
    "or alternatively"
   ]
  },
  {
   "cell_type": "code",
   "execution_count": 4,
   "id": "80ec4d26-70c0-4cf3-aba3-615ab1d0b4fb",
   "metadata": {},
   "outputs": [],
   "source": [
    "from CCfrag import Divider"
   ]
  },
  {
   "cell_type": "code",
   "execution_count": null,
   "id": "9a7efe38-ea04-4ac9-951a-7d7b05d05db0",
   "metadata": {},
   "outputs": [],
   "source": [
    "divider = Divider(L=30, O=15, nmer=2)"
   ]
  },
  {
   "cell_type": "code",
   "execution_count": null,
   "id": "43863c93-25ad-4ed9-8c69-b88d93914d3d",
   "metadata": {},
   "outputs": [],
   "source": [
    "disassembler.generate_queries"
   ]
  },
  {
   "cell_type": "markdown",
   "id": "a5948ceb-b50b-4e39-b07b-7be83e7ce4da",
   "metadata": {},
   "source": [
    "# 2 Import the integrator module"
   ]
  },
  {
   "cell_type": "code",
   "execution_count": 5,
   "id": "2daf010a-e7cb-4a0d-8328-58bda5c0e0db",
   "metadata": {},
   "outputs": [],
   "source": [
    "import CCfrag"
   ]
  },
  {
   "cell_type": "code",
   "execution_count": 7,
   "id": "8bb0c2ee-95e9-4f5d-acc5-e94cb0d88ddb",
   "metadata": {},
   "outputs": [],
   "source": [
    "integrator = CCfrag.Integrator('results')"
   ]
  },
  {
   "cell_type": "code",
   "execution_count": null,
   "id": "4be0e40c-97fc-4b47-9c4b-a5ea5885d701",
   "metadata": {},
   "outputs": [],
   "source": [
    "integrator.run_assembly_analysis(...)"
   ]
  },
  {
   "cell_type": "markdown",
   "id": "a62bdcd6-dbce-4bb9-980b-b9e7dc06acd8",
   "metadata": {},
   "source": [
    "or alternatively"
   ]
  },
  {
   "cell_type": "code",
   "execution_count": 4,
   "id": "c5c48f85-36b4-4bdd-a34f-18fc3e9b84be",
   "metadata": {},
   "outputs": [],
   "source": [
    "from CCfrag import Integrator"
   ]
  },
  {
   "cell_type": "code",
   "execution_count": 7,
   "id": "d9d86631-2ad2-44af-9f7d-a42f98f4f351",
   "metadata": {},
   "outputs": [],
   "source": [
    "integrator = CCfrag.Integrator('results')"
   ]
  },
  {
   "cell_type": "code",
   "execution_count": null,
   "id": "ae4aabba-0402-4d66-9066-cbef29ff467d",
   "metadata": {},
   "outputs": [],
   "source": [
    "integrator.run_assembly_analysis(...)"
   ]
  }
 ],
 "metadata": {
  "kernelspec": {
   "display_name": "Python 3 (ipykernel)",
   "language": "python",
   "name": "python3"
  },
  "language_info": {
   "codemirror_mode": {
    "name": "ipython",
    "version": 3
   },
   "file_extension": ".py",
   "mimetype": "text/x-python",
   "name": "python",
   "nbconvert_exporter": "python",
   "pygments_lexer": "ipython3",
   "version": "3.12.2"
  }
 },
 "nbformat": 4,
 "nbformat_minor": 5
}
